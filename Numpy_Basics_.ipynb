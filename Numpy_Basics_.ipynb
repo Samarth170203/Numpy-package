{
  "nbformat": 4,
  "nbformat_minor": 0,
  "metadata": {
    "kernelspec": {
      "display_name": "Python 3",
      "language": "python",
      "name": "python3"
    },
    "language_info": {
      "codemirror_mode": {
        "name": "ipython",
        "version": 3
      },
      "file_extension": ".py",
      "mimetype": "text/x-python",
      "name": "python",
      "nbconvert_exporter": "python",
      "pygments_lexer": "ipython3",
      "version": "3.6.6"
    },
    "colab": {
      "provenance": [],
      "include_colab_link": true
    }
  },
  "cells": [
    {
      "cell_type": "markdown",
      "metadata": {
        "id": "view-in-github",
        "colab_type": "text"
      },
      "source": [
        "<a href=\"https://colab.research.google.com/github/Samarth170203/Numpy-package/blob/main/Numpy_Basics_.ipynb\" target=\"_parent\"><img src=\"https://colab.research.google.com/assets/colab-badge.svg\" alt=\"Open In Colab\"/></a>"
      ]
    },
    {
      "cell_type": "markdown",
      "metadata": {
        "id": "x8sTYlRmYwHY"
      },
      "source": [
        "# 1. The Numpy Package"
      ]
    },
    {
      "cell_type": "markdown",
      "metadata": {
        "id": "ieFH4c0jYwHb"
      },
      "source": [
        "## 1.1 Numpy Array Basics"
      ]
    },
    {
      "cell_type": "code",
      "metadata": {
        "id": "4DDJhWOWYwHc"
      },
      "source": [
        "import numpy as np #import numpy"
      ],
      "execution_count": 1,
      "outputs": []
    },
    {
      "cell_type": "code",
      "metadata": {
        "id": "J7OPmsjQYwHk",
        "colab": {
          "base_uri": "https://localhost:8080/"
        },
        "outputId": "4ddb44db-7d3e-4417-d3e7-ce493c552a84"
      },
      "source": [
        "l = list(range(1,11)) #create a list\n",
        "l"
      ],
      "execution_count": 2,
      "outputs": [
        {
          "output_type": "execute_result",
          "data": {
            "text/plain": [
              "[1, 2, 3, 4, 5, 6, 7, 8, 9, 10]"
            ]
          },
          "metadata": {},
          "execution_count": 2
        }
      ]
    },
    {
      "cell_type": "code",
      "metadata": {
        "id": "2DYX5aC2YwHs",
        "colab": {
          "base_uri": "https://localhost:8080/"
        },
        "outputId": "44958c4a-73d8-4b73-fc99-0f67aeb017e3"
      },
      "source": [
        "my_array = np.array(l) #transform list into a numpy array (ndarray)\n",
        "my_array"
      ],
      "execution_count": 3,
      "outputs": [
        {
          "output_type": "execute_result",
          "data": {
            "text/plain": [
              "array([ 1,  2,  3,  4,  5,  6,  7,  8,  9, 10])"
            ]
          },
          "metadata": {},
          "execution_count": 3
        }
      ]
    },
    {
      "cell_type": "code",
      "metadata": {
        "id": "3eNLSA_NYwHy",
        "colab": {
          "base_uri": "https://localhost:8080/"
        },
        "outputId": "d616fefb-e2ef-4ee6-bc4a-fdbe5fa15ce7"
      },
      "source": [
        "type(my_array)"
      ],
      "execution_count": 4,
      "outputs": [
        {
          "output_type": "execute_result",
          "data": {
            "text/plain": [
              "numpy.ndarray"
            ]
          },
          "metadata": {},
          "execution_count": 4
        }
      ]
    },
    {
      "cell_type": "code",
      "metadata": {
        "id": "PbSlImPXYwH3",
        "colab": {
          "base_uri": "https://localhost:8080/"
        },
        "outputId": "2cb0b160-b0e1-4671-9755-31ebaf66faa3"
      },
      "source": [
        "for i in my_array: # same as lists, ndarrays store multiple elements (is iterable)\n",
        "    print(i)"
      ],
      "execution_count": 5,
      "outputs": [
        {
          "output_type": "stream",
          "name": "stdout",
          "text": [
            "1\n",
            "2\n",
            "3\n",
            "4\n",
            "5\n",
            "6\n",
            "7\n",
            "8\n",
            "9\n",
            "10\n"
          ]
        }
      ]
    },
    {
      "cell_type": "code",
      "metadata": {
        "id": "WWIvO1XRYwH-"
      },
      "source": [
        "l = [1, 2.5, \"Dog\", True] #lists can store different datatypes"
      ],
      "execution_count": 6,
      "outputs": []
    },
    {
      "cell_type": "code",
      "metadata": {
        "id": "O6DQrk9tYwID",
        "colab": {
          "base_uri": "https://localhost:8080/"
        },
        "outputId": "f083ef0c-3a63-4a12-f94c-0d5d5a66e0bf"
      },
      "source": [
        "for i in l:\n",
        "    print(type(i))"
      ],
      "execution_count": 7,
      "outputs": [
        {
          "output_type": "stream",
          "name": "stdout",
          "text": [
            "<class 'int'>\n",
            "<class 'float'>\n",
            "<class 'str'>\n",
            "<class 'bool'>\n"
          ]
        }
      ]
    },
    {
      "cell_type": "code",
      "metadata": {
        "id": "WON4r0HbYwIK",
        "colab": {
          "base_uri": "https://localhost:8080/"
        },
        "outputId": "28527aa9-7d6a-422c-cb48-9b4a1a4014dd"
      },
      "source": [
        "a = np.array(l) #in ndarrays, all elements must have same datatype; numpy transforms automatically\n",
        "a"
      ],
      "execution_count": 8,
      "outputs": [
        {
          "output_type": "execute_result",
          "data": {
            "text/plain": [
              "array(['1', '2.5', 'Dog', 'True'], dtype='<U32')"
            ]
          },
          "metadata": {},
          "execution_count": 8
        }
      ]
    },
    {
      "cell_type": "code",
      "metadata": {
        "id": "gd0kE3ZbYwIP",
        "colab": {
          "base_uri": "https://localhost:8080/"
        },
        "outputId": "45322b86-846a-4040-b116-bcee887e01af"
      },
      "source": [
        "for i in a:\n",
        "    print(type(i))"
      ],
      "execution_count": 9,
      "outputs": [
        {
          "output_type": "stream",
          "name": "stdout",
          "text": [
            "<class 'numpy.str_'>\n",
            "<class 'numpy.str_'>\n",
            "<class 'numpy.str_'>\n",
            "<class 'numpy.str_'>\n"
          ]
        }
      ]
    },
    {
      "cell_type": "code",
      "metadata": {
        "id": "HMEZIPGtYwIV",
        "colab": {
          "base_uri": "https://localhost:8080/"
        },
        "outputId": "112a5557-166f-46f7-ab15-e2b3ac178ac8"
      },
      "source": [
        "b = np.array([1., \"2\", 3])\n",
        "b"
      ],
      "execution_count": 10,
      "outputs": [
        {
          "output_type": "execute_result",
          "data": {
            "text/plain": [
              "array(['1.0', '2', '3'], dtype='<U32')"
            ]
          },
          "metadata": {},
          "execution_count": 10
        }
      ]
    },
    {
      "cell_type": "code",
      "metadata": {
        "id": "hv9P1Z0BYwIb",
        "colab": {
          "base_uri": "https://localhost:8080/"
        },
        "outputId": "351050d8-2980-48c5-b168-8ec0e94dfa54"
      },
      "source": [
        "type(b)"
      ],
      "execution_count": 11,
      "outputs": [
        {
          "output_type": "execute_result",
          "data": {
            "text/plain": [
              "numpy.ndarray"
            ]
          },
          "metadata": {},
          "execution_count": 11
        }
      ]
    },
    {
      "cell_type": "code",
      "metadata": {
        "id": "kOzM7O0UYwIg",
        "colab": {
          "base_uri": "https://localhost:8080/"
        },
        "outputId": "7deac528-26df-4635-a7ce-59d28fcb9fea"
      },
      "source": [
        "b.dtype #can check single datatype of all elements with attribute .dtype"
      ],
      "execution_count": 12,
      "outputs": [
        {
          "output_type": "execute_result",
          "data": {
            "text/plain": [
              "dtype('<U32')"
            ]
          },
          "metadata": {},
          "execution_count": 12
        }
      ]
    },
    {
      "cell_type": "markdown",
      "metadata": {
        "id": "jlYeNylLYwIl"
      },
      "source": [
        "## 1.2 Numpy Array (element-wise operations / vectorization)"
      ]
    },
    {
      "cell_type": "code",
      "metadata": {
        "id": "AwWDe2M8YwIm"
      },
      "source": [
        "import numpy as np"
      ],
      "execution_count": 13,
      "outputs": []
    },
    {
      "cell_type": "code",
      "metadata": {
        "id": "OlbqQPRVYwIw",
        "colab": {
          "base_uri": "https://localhost:8080/"
        },
        "outputId": "b2b35328-c617-4581-ca96-290dd2ba6cf6"
      },
      "source": [
        "np.arange(1,11) #create new ndarray from 1(incl.) to 11(excl.)"
      ],
      "execution_count": 14,
      "outputs": [
        {
          "output_type": "execute_result",
          "data": {
            "text/plain": [
              "array([ 1,  2,  3,  4,  5,  6,  7,  8,  9, 10])"
            ]
          },
          "metadata": {},
          "execution_count": 14
        }
      ]
    },
    {
      "cell_type": "code",
      "metadata": {
        "id": "5pMSJilqYwI1",
        "colab": {
          "base_uri": "https://localhost:8080/"
        },
        "outputId": "2a2b21d0-5550-4a4a-ad1e-326faa1f483c"
      },
      "source": [
        "np.arange(1,11,2) #only every second number is created"
      ],
      "execution_count": 15,
      "outputs": [
        {
          "output_type": "execute_result",
          "data": {
            "text/plain": [
              "array([1, 3, 5, 7, 9])"
            ]
          },
          "metadata": {},
          "execution_count": 15
        }
      ]
    },
    {
      "cell_type": "code",
      "metadata": {
        "id": "4WFXHI-9YwI5",
        "colab": {
          "base_uri": "https://localhost:8080/"
        },
        "outputId": "a447ce19-240b-4efe-f138-95898b7dedae"
      },
      "source": [
        "l = [1,2,3,4]\n",
        "l"
      ],
      "execution_count": 16,
      "outputs": [
        {
          "output_type": "execute_result",
          "data": {
            "text/plain": [
              "[1, 2, 3, 4]"
            ]
          },
          "metadata": {},
          "execution_count": 16
        }
      ]
    },
    {
      "cell_type": "code",
      "metadata": {
        "id": "6hZoZ0mHYwI_",
        "colab": {
          "base_uri": "https://localhost:8080/"
        },
        "outputId": "1e621c84-353e-44ff-ac59-be958049f38b"
      },
      "source": [
        "l*2 #this is not an element-wise operation"
      ],
      "execution_count": 17,
      "outputs": [
        {
          "output_type": "execute_result",
          "data": {
            "text/plain": [
              "[1, 2, 3, 4, 1, 2, 3, 4]"
            ]
          },
          "metadata": {},
          "execution_count": 17
        }
      ]
    },
    {
      "cell_type": "code",
      "metadata": {
        "id": "gQ2EGB68YwJD",
        "colab": {
          "base_uri": "https://localhost:8080/"
        },
        "outputId": "7a90963d-06d1-4836-85da-945916f230ed"
      },
      "source": [
        "l1 = [] #element-wise operations with lists require a bunch of code\n",
        "for i in l:\n",
        "    l1.append(i*2)\n",
        "l1"
      ],
      "execution_count": 18,
      "outputs": [
        {
          "output_type": "execute_result",
          "data": {
            "text/plain": [
              "[2, 4, 6, 8]"
            ]
          },
          "metadata": {},
          "execution_count": 18
        }
      ]
    },
    {
      "cell_type": "code",
      "metadata": {
        "id": "5GC7r586YwJN",
        "colab": {
          "base_uri": "https://localhost:8080/"
        },
        "outputId": "057d8935-3b1c-436f-fc45-1e226071a6e0"
      },
      "source": [
        "a = np.arange(1,5) #create ndarray from 1 to 4 (both including)\n",
        "a"
      ],
      "execution_count": 19,
      "outputs": [
        {
          "output_type": "execute_result",
          "data": {
            "text/plain": [
              "array([1, 2, 3, 4])"
            ]
          },
          "metadata": {},
          "execution_count": 19
        }
      ]
    },
    {
      "cell_type": "code",
      "metadata": {
        "id": "rqjzpWTFYwJU",
        "colab": {
          "base_uri": "https://localhost:8080/"
        },
        "outputId": "28c89d6b-391f-4f3f-d4d6-c8b827201fa4"
      },
      "source": [
        "a * 2 #element-wise (vectorized) operations are pretty simple with ndarrays"
      ],
      "execution_count": 20,
      "outputs": [
        {
          "output_type": "execute_result",
          "data": {
            "text/plain": [
              "array([2, 4, 6, 8])"
            ]
          },
          "metadata": {},
          "execution_count": 20
        }
      ]
    },
    {
      "cell_type": "code",
      "metadata": {
        "id": "OhAYX_eXYwJY",
        "colab": {
          "base_uri": "https://localhost:8080/"
        },
        "outputId": "32efa7a1-f5d5-4ff3-b4e2-3b851c21a25d"
      },
      "source": [
        "a + 2 #addition works as well"
      ],
      "execution_count": 21,
      "outputs": [
        {
          "output_type": "execute_result",
          "data": {
            "text/plain": [
              "array([3, 4, 5, 6])"
            ]
          },
          "metadata": {},
          "execution_count": 21
        }
      ]
    },
    {
      "cell_type": "code",
      "metadata": {
        "id": "FRR6pL8gYwJe",
        "colab": {
          "base_uri": "https://localhost:8080/"
        },
        "outputId": "2a38b947-50c2-402d-9bea-dba216556c75"
      },
      "source": [
        "a**2 #all elements squared"
      ],
      "execution_count": 22,
      "outputs": [
        {
          "output_type": "execute_result",
          "data": {
            "text/plain": [
              "array([ 1,  4,  9, 16])"
            ]
          },
          "metadata": {},
          "execution_count": 22
        }
      ]
    },
    {
      "cell_type": "code",
      "metadata": {
        "id": "1yDwICwRYwJj",
        "colab": {
          "base_uri": "https://localhost:8080/"
        },
        "outputId": "6e9e7a25-5139-4ccf-b6d0-afff674cb8bf"
      },
      "source": [
        "2**a #can serve as exponent as well"
      ],
      "execution_count": 23,
      "outputs": [
        {
          "output_type": "execute_result",
          "data": {
            "text/plain": [
              "array([ 2,  4,  8, 16])"
            ]
          },
          "metadata": {},
          "execution_count": 23
        }
      ]
    },
    {
      "cell_type": "code",
      "metadata": {
        "id": "NDX-BpOiYwJn",
        "colab": {
          "base_uri": "https://localhost:8080/"
        },
        "outputId": "d1eafd02-46fc-4eab-c4b4-04723418ae32"
      },
      "source": [
        "np.sqrt(a) #square root of all elements"
      ],
      "execution_count": 24,
      "outputs": [
        {
          "output_type": "execute_result",
          "data": {
            "text/plain": [
              "array([1.        , 1.41421356, 1.73205081, 2.        ])"
            ]
          },
          "metadata": {},
          "execution_count": 24
        }
      ]
    },
    {
      "cell_type": "code",
      "metadata": {
        "id": "SRgINJGsYwJt",
        "colab": {
          "base_uri": "https://localhost:8080/"
        },
        "outputId": "e856effd-c96e-4852-9796-68b5c3015688"
      },
      "source": [
        "np.exp(a) #exponentiation with e"
      ],
      "execution_count": 25,
      "outputs": [
        {
          "output_type": "execute_result",
          "data": {
            "text/plain": [
              "array([ 2.71828183,  7.3890561 , 20.08553692, 54.59815003])"
            ]
          },
          "metadata": {},
          "execution_count": 25
        }
      ]
    },
    {
      "cell_type": "code",
      "metadata": {
        "id": "BITiGcfmYwJz",
        "colab": {
          "base_uri": "https://localhost:8080/"
        },
        "outputId": "53c18c01-e47b-44bb-d7d9-24fecd9d9c13"
      },
      "source": [
        "np.log(a) #natural logarithm"
      ],
      "execution_count": 26,
      "outputs": [
        {
          "output_type": "execute_result",
          "data": {
            "text/plain": [
              "array([0.        , 0.69314718, 1.09861229, 1.38629436])"
            ]
          },
          "metadata": {},
          "execution_count": 26
        }
      ]
    },
    {
      "cell_type": "code",
      "metadata": {
        "id": "gRV38w6MYwJ4",
        "colab": {
          "base_uri": "https://localhost:8080/"
        },
        "outputId": "f040c66e-a2da-4a1e-c60b-9a204732f6a5"
      },
      "source": [
        "a.sum() #sum of all elements (ndarray method)"
      ],
      "execution_count": 27,
      "outputs": [
        {
          "output_type": "execute_result",
          "data": {
            "text/plain": [
              "10"
            ]
          },
          "metadata": {},
          "execution_count": 27
        }
      ]
    },
    {
      "cell_type": "code",
      "metadata": {
        "id": "uxJykkmqYwJ8",
        "colab": {
          "base_uri": "https://localhost:8080/"
        },
        "outputId": "60de576c-ae2a-495f-875b-76038ef43850"
      },
      "source": [
        "np.sum(a) #sum of all elements"
      ],
      "execution_count": 28,
      "outputs": [
        {
          "output_type": "execute_result",
          "data": {
            "text/plain": [
              "10"
            ]
          },
          "metadata": {},
          "execution_count": 28
        }
      ]
    },
    {
      "cell_type": "code",
      "metadata": {
        "id": "crnZAIYmYwKB",
        "colab": {
          "base_uri": "https://localhost:8080/"
        },
        "outputId": "fa687bd6-b8bb-43f2-dc2d-491e26a5fc34"
      },
      "source": [
        "sum(a)"
      ],
      "execution_count": 29,
      "outputs": [
        {
          "output_type": "execute_result",
          "data": {
            "text/plain": [
              "10"
            ]
          },
          "metadata": {},
          "execution_count": 29
        }
      ]
    },
    {
      "cell_type": "code",
      "metadata": {
        "id": "E-SKZIIaYwKH",
        "colab": {
          "base_uri": "https://localhost:8080/"
        },
        "outputId": "28565f78-6572-4d0f-8189-6121cbd7644b"
      },
      "source": [
        "a.size #number of elements in ndarray (ndarray attribute)"
      ],
      "execution_count": 30,
      "outputs": [
        {
          "output_type": "execute_result",
          "data": {
            "text/plain": [
              "4"
            ]
          },
          "metadata": {},
          "execution_count": 30
        }
      ]
    },
    {
      "cell_type": "code",
      "metadata": {
        "id": "1KxIozqwYwKL",
        "colab": {
          "base_uri": "https://localhost:8080/"
        },
        "outputId": "2e2dafa4-2ff4-4c1f-f64b-48fe74f7989e"
      },
      "source": [
        "len(a)"
      ],
      "execution_count": 31,
      "outputs": [
        {
          "output_type": "execute_result",
          "data": {
            "text/plain": [
              "4"
            ]
          },
          "metadata": {},
          "execution_count": 31
        }
      ]
    },
    {
      "cell_type": "code",
      "metadata": {
        "id": "FbZsQFGJYwKR",
        "colab": {
          "base_uri": "https://localhost:8080/"
        },
        "outputId": "7150fdee-a252-43ee-bca4-1f98c218f041"
      },
      "source": [
        "b = np.array([-2, -1, -0.5, 0, 1, 2, 3.5])\n",
        "b"
      ],
      "execution_count": 32,
      "outputs": [
        {
          "output_type": "execute_result",
          "data": {
            "text/plain": [
              "array([-2. , -1. , -0.5,  0. ,  1. ,  2. ,  3.5])"
            ]
          },
          "metadata": {},
          "execution_count": 32
        }
      ]
    },
    {
      "cell_type": "code",
      "metadata": {
        "id": "6CJZ81mPYwKW",
        "colab": {
          "base_uri": "https://localhost:8080/"
        },
        "outputId": "dbee23dd-64a0-4529-fd2d-8303869bd76d"
      },
      "source": [
        "np.abs(b) #absolute values of all elements"
      ],
      "execution_count": 33,
      "outputs": [
        {
          "output_type": "execute_result",
          "data": {
            "text/plain": [
              "array([2. , 1. , 0.5, 0. , 1. , 2. , 3.5])"
            ]
          },
          "metadata": {},
          "execution_count": 33
        }
      ]
    },
    {
      "cell_type": "code",
      "metadata": {
        "id": "N5EgG_iJYwKh",
        "colab": {
          "base_uri": "https://localhost:8080/"
        },
        "outputId": "61877e04-dcd4-49ce-9b2f-a0b3be1bd4de"
      },
      "source": [
        "c = np.array([-1.7, -1.5, -0.2, 0.2, 1.5, 1.7, 2.0])\n",
        "c"
      ],
      "execution_count": 34,
      "outputs": [
        {
          "output_type": "execute_result",
          "data": {
            "text/plain": [
              "array([-1.7, -1.5, -0.2,  0.2,  1.5,  1.7,  2. ])"
            ]
          },
          "metadata": {},
          "execution_count": 34
        }
      ]
    },
    {
      "cell_type": "code",
      "metadata": {
        "id": "j2sq0Ye-YwKl",
        "colab": {
          "base_uri": "https://localhost:8080/"
        },
        "outputId": "8b6d46bb-731d-4dbf-8d02-c47d850e8399"
      },
      "source": [
        "np.ceil(c) #element-wise rounding up"
      ],
      "execution_count": 35,
      "outputs": [
        {
          "output_type": "execute_result",
          "data": {
            "text/plain": [
              "array([-1., -1., -0.,  1.,  2.,  2.,  2.])"
            ]
          },
          "metadata": {},
          "execution_count": 35
        }
      ]
    },
    {
      "cell_type": "code",
      "metadata": {
        "id": "m_JVb9i9YwKr",
        "colab": {
          "base_uri": "https://localhost:8080/"
        },
        "outputId": "98358b7e-a4ac-423f-b6b0-a248662b4315"
      },
      "source": [
        "np.floor(c) #element-wise rounding down"
      ],
      "execution_count": 36,
      "outputs": [
        {
          "output_type": "execute_result",
          "data": {
            "text/plain": [
              "array([-2., -2., -1.,  0.,  1.,  1.,  2.])"
            ]
          },
          "metadata": {},
          "execution_count": 36
        }
      ]
    },
    {
      "cell_type": "code",
      "metadata": {
        "id": "nNVAfq0zYwKx",
        "colab": {
          "base_uri": "https://localhost:8080/"
        },
        "outputId": "4c60fc0a-ff44-458a-9afc-79750cd3b54b"
      },
      "source": [
        "np.around([-3.23, -0.76, 1.44, 2.65, ], decimals = 0) #evenly round all elements to the given number of decimals."
      ],
      "execution_count": 37,
      "outputs": [
        {
          "output_type": "execute_result",
          "data": {
            "text/plain": [
              "array([-3., -1.,  1.,  3.])"
            ]
          },
          "metadata": {},
          "execution_count": 37
        }
      ]
    },
    {
      "cell_type": "markdown",
      "metadata": {
        "id": "M1JgIRn8YwK2"
      },
      "source": [
        "## 1.3 Numpy Array (Indexing and Slicing)"
      ]
    },
    {
      "cell_type": "code",
      "metadata": {
        "id": "O-cVNHFLYwK2"
      },
      "source": [
        "import numpy as np"
      ],
      "execution_count": 38,
      "outputs": []
    },
    {
      "cell_type": "code",
      "metadata": {
        "id": "jGLo3egsYwK6",
        "colab": {
          "base_uri": "https://localhost:8080/"
        },
        "outputId": "eba1e691-fe9d-4866-8a11-5ff3572086e6"
      },
      "source": [
        "a = np.arange(1,11) #array from 1 to 10 (incl.)\n",
        "a"
      ],
      "execution_count": 39,
      "outputs": [
        {
          "output_type": "execute_result",
          "data": {
            "text/plain": [
              "array([ 1,  2,  3,  4,  5,  6,  7,  8,  9, 10])"
            ]
          },
          "metadata": {},
          "execution_count": 39
        }
      ]
    },
    {
      "cell_type": "code",
      "metadata": {
        "id": "5R7o7B05YwLF",
        "colab": {
          "base_uri": "https://localhost:8080/"
        },
        "outputId": "19d0c185-23b3-4daf-defe-80e11676e8ed"
      },
      "source": [
        "a[0] #first element at index position 0 (zero-based indexing!)"
      ],
      "execution_count": 40,
      "outputs": [
        {
          "output_type": "execute_result",
          "data": {
            "text/plain": [
              "1"
            ]
          },
          "metadata": {},
          "execution_count": 40
        }
      ]
    },
    {
      "cell_type": "code",
      "metadata": {
        "id": "YdKaEF1EYwLL",
        "colab": {
          "base_uri": "https://localhost:8080/"
        },
        "outputId": "478c6e51-9189-4dfa-fcbb-7cba8948a764"
      },
      "source": [
        "a[1] #second element (index position 1)"
      ],
      "execution_count": 41,
      "outputs": [
        {
          "output_type": "execute_result",
          "data": {
            "text/plain": [
              "2"
            ]
          },
          "metadata": {},
          "execution_count": 41
        }
      ]
    },
    {
      "cell_type": "code",
      "metadata": {
        "id": "v0gq3kzzYwLP",
        "colab": {
          "base_uri": "https://localhost:8080/"
        },
        "outputId": "30e1f00b-9a15-48cf-d068-a6ea0f844ab7"
      },
      "source": [
        "a[-1] #last element"
      ],
      "execution_count": 42,
      "outputs": [
        {
          "output_type": "execute_result",
          "data": {
            "text/plain": [
              "10"
            ]
          },
          "metadata": {},
          "execution_count": 42
        }
      ]
    },
    {
      "cell_type": "code",
      "metadata": {
        "id": "l5V7KGHjYwLY",
        "colab": {
          "base_uri": "https://localhost:8080/"
        },
        "outputId": "8eecaf0b-74b8-4ae4-8504-32ac827b2082"
      },
      "source": [
        "list(enumerate(a)) #list of index,value tuples"
      ],
      "execution_count": 43,
      "outputs": [
        {
          "output_type": "execute_result",
          "data": {
            "text/plain": [
              "[(0, 1),\n",
              " (1, 2),\n",
              " (2, 3),\n",
              " (3, 4),\n",
              " (4, 5),\n",
              " (5, 6),\n",
              " (6, 7),\n",
              " (7, 8),\n",
              " (8, 9),\n",
              " (9, 10)]"
            ]
          },
          "metadata": {},
          "execution_count": 43
        }
      ]
    },
    {
      "cell_type": "code",
      "metadata": {
        "id": "XZUjOmIaYwLf",
        "colab": {
          "base_uri": "https://localhost:8080/"
        },
        "outputId": "9b4f87ca-8d09-41d7-cda0-77762460d0ee"
      },
      "source": [
        "a[2:6] #slicing from index position 2 (incl.) till position 6 (excl.)"
      ],
      "execution_count": 44,
      "outputs": [
        {
          "output_type": "execute_result",
          "data": {
            "text/plain": [
              "array([3, 4, 5, 6])"
            ]
          },
          "metadata": {},
          "execution_count": 44
        }
      ]
    },
    {
      "cell_type": "code",
      "metadata": {
        "id": "MUT0ELr4YwLk",
        "colab": {
          "base_uri": "https://localhost:8080/"
        },
        "outputId": "a905bb64-1b9e-4b20-9eca-b950d06f60e2"
      },
      "source": [
        "a[:] #all elements"
      ],
      "execution_count": 45,
      "outputs": [
        {
          "output_type": "execute_result",
          "data": {
            "text/plain": [
              "array([ 1,  2,  3,  4,  5,  6,  7,  8,  9, 10])"
            ]
          },
          "metadata": {},
          "execution_count": 45
        }
      ]
    },
    {
      "cell_type": "code",
      "metadata": {
        "id": "jYHEVX5TYwLq",
        "colab": {
          "base_uri": "https://localhost:8080/"
        },
        "outputId": "f293560e-2740-4617-e8f4-03a0c0a5422b"
      },
      "source": [
        "a[:5] #all elements until index position 5 (excl.)"
      ],
      "execution_count": 46,
      "outputs": [
        {
          "output_type": "execute_result",
          "data": {
            "text/plain": [
              "array([1, 2, 3, 4, 5])"
            ]
          },
          "metadata": {},
          "execution_count": 46
        }
      ]
    },
    {
      "cell_type": "code",
      "metadata": {
        "id": "0Qnl2oiHYwLv",
        "colab": {
          "base_uri": "https://localhost:8080/"
        },
        "outputId": "63e26777-f2d2-4531-e386-20f171a74b18"
      },
      "source": [
        "a[6:] #all elements from index position 6 (incl.) till the last element (incl.)"
      ],
      "execution_count": 47,
      "outputs": [
        {
          "output_type": "execute_result",
          "data": {
            "text/plain": [
              "array([ 7,  8,  9, 10])"
            ]
          },
          "metadata": {},
          "execution_count": 47
        }
      ]
    },
    {
      "cell_type": "code",
      "metadata": {
        "id": "ZtcKtJiiYwLy",
        "colab": {
          "base_uri": "https://localhost:8080/"
        },
        "outputId": "38bf42c2-d7ec-4509-e98d-19cadd8ad1a3"
      },
      "source": [
        "a[::2] #every second element, starting from first element"
      ],
      "execution_count": 48,
      "outputs": [
        {
          "output_type": "execute_result",
          "data": {
            "text/plain": [
              "array([1, 3, 5, 7, 9])"
            ]
          },
          "metadata": {},
          "execution_count": 48
        }
      ]
    },
    {
      "cell_type": "code",
      "metadata": {
        "id": "XBCtE--6YwL2",
        "colab": {
          "base_uri": "https://localhost:8080/"
        },
        "outputId": "eefec822-4d69-44a2-a476-2f909980c9a5"
      },
      "source": [
        "a[::3] #every third element, starting from first element"
      ],
      "execution_count": 49,
      "outputs": [
        {
          "output_type": "execute_result",
          "data": {
            "text/plain": [
              "array([ 1,  4,  7, 10])"
            ]
          },
          "metadata": {},
          "execution_count": 49
        }
      ]
    },
    {
      "cell_type": "code",
      "metadata": {
        "id": "J557OyovYwL6",
        "colab": {
          "base_uri": "https://localhost:8080/"
        },
        "outputId": "a4453bed-312b-4b93-f058-6ee173bc4ddd"
      },
      "source": [
        "a[2::3] #every third element, starting from third element (index position 2)"
      ],
      "execution_count": 50,
      "outputs": [
        {
          "output_type": "execute_result",
          "data": {
            "text/plain": [
              "array([3, 6, 9])"
            ]
          },
          "metadata": {},
          "execution_count": 50
        }
      ]
    },
    {
      "cell_type": "code",
      "metadata": {
        "id": "NpPN8AfbYwL_",
        "colab": {
          "base_uri": "https://localhost:8080/"
        },
        "outputId": "c39db087-99ab-41a8-ce83-c89dd8386d4c"
      },
      "source": [
        "a[0] = 100 #ndarrays are mutable, changing first element to 100\n",
        "a"
      ],
      "execution_count": 51,
      "outputs": [
        {
          "output_type": "execute_result",
          "data": {
            "text/plain": [
              "array([100,   2,   3,   4,   5,   6,   7,   8,   9,  10])"
            ]
          },
          "metadata": {},
          "execution_count": 51
        }
      ]
    },
    {
      "cell_type": "code",
      "metadata": {
        "id": "DgveFg0IYwMH",
        "colab": {
          "base_uri": "https://localhost:8080/"
        },
        "outputId": "c4a2c686-4a01-41ad-cb77-a21b6662f2a8"
      },
      "source": [
        "a[-1] = 101 #changing last element to 101\n",
        "a"
      ],
      "execution_count": 52,
      "outputs": [
        {
          "output_type": "execute_result",
          "data": {
            "text/plain": [
              "array([100,   2,   3,   4,   5,   6,   7,   8,   9, 101])"
            ]
          },
          "metadata": {},
          "execution_count": 52
        }
      ]
    },
    {
      "cell_type": "code",
      "metadata": {
        "id": "30WIMnh1YwMN",
        "colab": {
          "base_uri": "https://localhost:8080/"
        },
        "outputId": "6772e0ec-c997-4f45-d100-cc9c95986199"
      },
      "source": [
        "a[2:5] = 50 #in contrast to lists, ndarrays allow braodcasting, assigning one new value to multiple elements\n",
        "a"
      ],
      "execution_count": 53,
      "outputs": [
        {
          "output_type": "execute_result",
          "data": {
            "text/plain": [
              "array([100,   2,  50,  50,  50,   6,   7,   8,   9, 101])"
            ]
          },
          "metadata": {},
          "execution_count": 53
        }
      ]
    },
    {
      "cell_type": "code",
      "metadata": {
        "id": "jIQ7wGdzYwMc",
        "colab": {
          "base_uri": "https://localhost:8080/"
        },
        "outputId": "09d1000a-8f2a-477b-8baa-8cfe0e3be3eb"
      },
      "source": [
        "a[2:5] = [50, 51, 52] #assigning multiple new values to multiple elements\n",
        "a"
      ],
      "execution_count": 54,
      "outputs": [
        {
          "output_type": "execute_result",
          "data": {
            "text/plain": [
              "array([100,   2,  50,  51,  52,   6,   7,   8,   9, 101])"
            ]
          },
          "metadata": {},
          "execution_count": 54
        }
      ]
    },
    {
      "cell_type": "code",
      "metadata": {
        "id": "9OlLq1JGYwMf",
        "colab": {
          "base_uri": "https://localhost:8080/"
        },
        "outputId": "e9982168-2bdd-4070-d4dc-2b929ee2a9d7"
      },
      "source": [
        "a = np.arange(1,11) #creating new ndarray a\n",
        "a"
      ],
      "execution_count": 55,
      "outputs": [
        {
          "output_type": "execute_result",
          "data": {
            "text/plain": [
              "array([ 1,  2,  3,  4,  5,  6,  7,  8,  9, 10])"
            ]
          },
          "metadata": {},
          "execution_count": 55
        }
      ]
    },
    {
      "cell_type": "code",
      "metadata": {
        "id": "L7cZ1xjiYwMi",
        "colab": {
          "base_uri": "https://localhost:8080/"
        },
        "outputId": "23ef23fb-9fdb-46c9-ef4a-64c13caa9e1e"
      },
      "source": [
        "b = a[2:8] # making a slice of ndarray a and assign new variable b,\n",
        "b\n",
        "#try b =a[2:8].copy() afterwords"
      ],
      "execution_count": 56,
      "outputs": [
        {
          "output_type": "execute_result",
          "data": {
            "text/plain": [
              "array([3, 4, 5, 6, 7, 8])"
            ]
          },
          "metadata": {},
          "execution_count": 56
        }
      ]
    },
    {
      "cell_type": "code",
      "metadata": {
        "id": "0ETBH-A8YwMl",
        "colab": {
          "base_uri": "https://localhost:8080/"
        },
        "outputId": "12e65b1d-da24-4683-93ce-ffad50f9b9f7"
      },
      "source": [
        "b[0] = 100 #changing first element of ndarray b\n",
        "b"
      ],
      "execution_count": 57,
      "outputs": [
        {
          "output_type": "execute_result",
          "data": {
            "text/plain": [
              "array([100,   4,   5,   6,   7,   8])"
            ]
          },
          "metadata": {},
          "execution_count": 57
        }
      ]
    },
    {
      "cell_type": "code",
      "metadata": {
        "id": "odEHtcFeYwMq",
        "colab": {
          "base_uri": "https://localhost:8080/"
        },
        "outputId": "7826104c-e28e-48ad-eb60-285541040cf6"
      },
      "source": [
        "a #respective element of ndarray a has changed as well!!!"
      ],
      "execution_count": 58,
      "outputs": [
        {
          "output_type": "execute_result",
          "data": {
            "text/plain": [
              "array([  1,   2, 100,   4,   5,   6,   7,   8,   9,  10])"
            ]
          },
          "metadata": {},
          "execution_count": 58
        }
      ]
    },
    {
      "cell_type": "code",
      "metadata": {
        "id": "YceKaaY_YwMv",
        "colab": {
          "base_uri": "https://localhost:8080/"
        },
        "outputId": "690c9511-be8c-49dd-afd7-217b923e00ba"
      },
      "source": [
        "l = list(range(1,11)) #lists behave differently\n",
        "l"
      ],
      "execution_count": 59,
      "outputs": [
        {
          "output_type": "execute_result",
          "data": {
            "text/plain": [
              "[1, 2, 3, 4, 5, 6, 7, 8, 9, 10]"
            ]
          },
          "metadata": {},
          "execution_count": 59
        }
      ]
    },
    {
      "cell_type": "code",
      "metadata": {
        "id": "P6XHeP2ZYwMy",
        "colab": {
          "base_uri": "https://localhost:8080/"
        },
        "outputId": "0717740f-5d2f-4abb-c2fe-336e31c3528b"
      },
      "source": [
        "m = l[2:8] #here a copy of the slice of l is created\n",
        "m"
      ],
      "execution_count": 60,
      "outputs": [
        {
          "output_type": "execute_result",
          "data": {
            "text/plain": [
              "[3, 4, 5, 6, 7, 8]"
            ]
          },
          "metadata": {},
          "execution_count": 60
        }
      ]
    },
    {
      "cell_type": "code",
      "metadata": {
        "id": "-GctQRbLYwM1",
        "colab": {
          "base_uri": "https://localhost:8080/"
        },
        "outputId": "ead99e7b-8cbc-4c35-deb2-2a8aa135969c"
      },
      "source": [
        "m[0] = 100 #changing first element of slice m\n",
        "m"
      ],
      "execution_count": 61,
      "outputs": [
        {
          "output_type": "execute_result",
          "data": {
            "text/plain": [
              "[100, 4, 5, 6, 7, 8]"
            ]
          },
          "metadata": {},
          "execution_count": 61
        }
      ]
    },
    {
      "cell_type": "code",
      "metadata": {
        "id": "PHY-_vLUYwM5",
        "colab": {
          "base_uri": "https://localhost:8080/"
        },
        "outputId": "17f49ec8-ed19-462e-bc9f-d2fee5308bf8"
      },
      "source": [
        "l #no effect on l !!!"
      ],
      "execution_count": 62,
      "outputs": [
        {
          "output_type": "execute_result",
          "data": {
            "text/plain": [
              "[1, 2, 3, 4, 5, 6, 7, 8, 9, 10]"
            ]
          },
          "metadata": {},
          "execution_count": 62
        }
      ]
    },
    {
      "cell_type": "markdown",
      "metadata": {
        "collapsed": true,
        "id": "u5niHEnhYwM8"
      },
      "source": [
        "## 1.4 Numpy Array (Shape and multiple Dimensions)"
      ]
    },
    {
      "cell_type": "code",
      "metadata": {
        "id": "i2sfm4SGYwM9"
      },
      "source": [
        "import numpy as np"
      ],
      "execution_count": 63,
      "outputs": []
    },
    {
      "cell_type": "code",
      "metadata": {
        "id": "ueMVm_6oYwNA",
        "colab": {
          "base_uri": "https://localhost:8080/"
        },
        "outputId": "6e25d1f1-db77-4e83-932a-a0b6d5bd7a87"
      },
      "source": [
        "a = np.arange(1,13) #creating array from 1 to 12\n",
        "a"
      ],
      "execution_count": 64,
      "outputs": [
        {
          "output_type": "execute_result",
          "data": {
            "text/plain": [
              "array([ 1,  2,  3,  4,  5,  6,  7,  8,  9, 10, 11, 12])"
            ]
          },
          "metadata": {},
          "execution_count": 64
        }
      ]
    },
    {
      "cell_type": "code",
      "metadata": {
        "id": "UAN4WtLZYwND",
        "colab": {
          "base_uri": "https://localhost:8080/"
        },
        "outputId": "aa9764f6-4b2f-4273-ce42-6051a33caa9e"
      },
      "source": [
        "type(a)"
      ],
      "execution_count": 65,
      "outputs": [
        {
          "output_type": "execute_result",
          "data": {
            "text/plain": [
              "numpy.ndarray"
            ]
          },
          "metadata": {},
          "execution_count": 65
        }
      ]
    },
    {
      "cell_type": "code",
      "metadata": {
        "id": "8UGP1Oy-YwNG",
        "colab": {
          "base_uri": "https://localhost:8080/"
        },
        "outputId": "16e67302-0766-42e9-e9b3-950b539bbeed"
      },
      "source": [
        "a.dtype"
      ],
      "execution_count": 66,
      "outputs": [
        {
          "output_type": "execute_result",
          "data": {
            "text/plain": [
              "dtype('int64')"
            ]
          },
          "metadata": {},
          "execution_count": 66
        }
      ]
    },
    {
      "cell_type": "code",
      "metadata": {
        "id": "WQvtl3dSYwNL",
        "colab": {
          "base_uri": "https://localhost:8080/"
        },
        "outputId": "d87b9e16-ab8f-4728-8d8d-1711ede22fd6"
      },
      "source": [
        "a.shape #one-dimensional array, 12 elements in one dimension (vector)"
      ],
      "execution_count": 67,
      "outputs": [
        {
          "output_type": "execute_result",
          "data": {
            "text/plain": [
              "(12,)"
            ]
          },
          "metadata": {},
          "execution_count": 67
        }
      ]
    },
    {
      "cell_type": "code",
      "metadata": {
        "id": "2eObsM8zYwNO"
      },
      "source": [
        "a = a.reshape(2,6) #reshaping a: 2 rows / 6 columns"
      ],
      "execution_count": 68,
      "outputs": []
    },
    {
      "cell_type": "code",
      "metadata": {
        "id": "yFtI8lUlYwNY",
        "colab": {
          "base_uri": "https://localhost:8080/"
        },
        "outputId": "7f8ef495-5efb-4d12-a349-ea59efebea9c"
      },
      "source": [
        "a"
      ],
      "execution_count": 69,
      "outputs": [
        {
          "output_type": "execute_result",
          "data": {
            "text/plain": [
              "array([[ 1,  2,  3,  4,  5,  6],\n",
              "       [ 7,  8,  9, 10, 11, 12]])"
            ]
          },
          "metadata": {},
          "execution_count": 69
        }
      ]
    },
    {
      "cell_type": "code",
      "metadata": {
        "id": "ZFE0DAKzYwNb",
        "colab": {
          "base_uri": "https://localhost:8080/"
        },
        "outputId": "705a9e32-2a16-4293-ef6a-11ae2d3671a0"
      },
      "source": [
        "a.shape # two-dimensional array: 2 rows / 6 columns (matrix)"
      ],
      "execution_count": 70,
      "outputs": [
        {
          "output_type": "execute_result",
          "data": {
            "text/plain": [
              "(2, 6)"
            ]
          },
          "metadata": {},
          "execution_count": 70
        }
      ]
    },
    {
      "cell_type": "code",
      "metadata": {
        "id": "PxS_mr6tYwNf",
        "colab": {
          "base_uri": "https://localhost:8080/"
        },
        "outputId": "b0cc9643-c70c-4504-dfd5-f3fb1d0a8f68"
      },
      "source": [
        "a = a.reshape(6,2) # two-dimensional array: 6 rows / 2 columns\n",
        "a"
      ],
      "execution_count": 71,
      "outputs": [
        {
          "output_type": "execute_result",
          "data": {
            "text/plain": [
              "array([[ 1,  2],\n",
              "       [ 3,  4],\n",
              "       [ 5,  6],\n",
              "       [ 7,  8],\n",
              "       [ 9, 10],\n",
              "       [11, 12]])"
            ]
          },
          "metadata": {},
          "execution_count": 71
        }
      ]
    },
    {
      "cell_type": "code",
      "metadata": {
        "id": "AwXSIWjAYwNi",
        "colab": {
          "base_uri": "https://localhost:8080/"
        },
        "outputId": "26901e36-0418-4a90-cc16-968ab0312227"
      },
      "source": [
        "a.shape"
      ],
      "execution_count": 72,
      "outputs": [
        {
          "output_type": "execute_result",
          "data": {
            "text/plain": [
              "(6, 2)"
            ]
          },
          "metadata": {},
          "execution_count": 72
        }
      ]
    },
    {
      "cell_type": "code",
      "metadata": {
        "id": "nQjNcBOuYwNo",
        "colab": {
          "base_uri": "https://localhost:8080/"
        },
        "outputId": "92d8cac9-1b0a-45bc-a287-28c7460b83b9"
      },
      "source": [
        "a + 100 #element-wise operations still work"
      ],
      "execution_count": 73,
      "outputs": [
        {
          "output_type": "execute_result",
          "data": {
            "text/plain": [
              "array([[101, 102],\n",
              "       [103, 104],\n",
              "       [105, 106],\n",
              "       [107, 108],\n",
              "       [109, 110],\n",
              "       [111, 112]])"
            ]
          },
          "metadata": {},
          "execution_count": 73
        }
      ]
    },
    {
      "cell_type": "code",
      "metadata": {
        "id": "12OAa91WYwNu",
        "colab": {
          "base_uri": "https://localhost:8080/"
        },
        "outputId": "35ee0ceb-3daf-45e7-9a7e-01b513cd4a17"
      },
      "source": [
        "a = a.reshape(2,2,3) #creating a three-dimensional array\n",
        "a"
      ],
      "execution_count": 74,
      "outputs": [
        {
          "output_type": "execute_result",
          "data": {
            "text/plain": [
              "array([[[ 1,  2,  3],\n",
              "        [ 4,  5,  6]],\n",
              "\n",
              "       [[ 7,  8,  9],\n",
              "        [10, 11, 12]]])"
            ]
          },
          "metadata": {},
          "execution_count": 74
        }
      ]
    },
    {
      "cell_type": "code",
      "metadata": {
        "id": "MXGxh3p-YwNy",
        "colab": {
          "base_uri": "https://localhost:8080/"
        },
        "outputId": "58db55aa-a952-4e3a-85fa-06d8f0067bfc"
      },
      "source": [
        "a.shape"
      ],
      "execution_count": 75,
      "outputs": [
        {
          "output_type": "execute_result",
          "data": {
            "text/plain": [
              "(2, 2, 3)"
            ]
          },
          "metadata": {},
          "execution_count": 75
        }
      ]
    },
    {
      "cell_type": "code",
      "metadata": {
        "id": "iHCxzOArYwN4",
        "colab": {
          "base_uri": "https://localhost:8080/"
        },
        "outputId": "f026ef1e-c6a1-492d-80bf-444cffa3e7eb"
      },
      "source": [
        "b = np.arange(1,101).reshape(25,4) #creating 2-dim ndarray with one line of code\n",
        "b"
      ],
      "execution_count": 76,
      "outputs": [
        {
          "output_type": "execute_result",
          "data": {
            "text/plain": [
              "array([[  1,   2,   3,   4],\n",
              "       [  5,   6,   7,   8],\n",
              "       [  9,  10,  11,  12],\n",
              "       [ 13,  14,  15,  16],\n",
              "       [ 17,  18,  19,  20],\n",
              "       [ 21,  22,  23,  24],\n",
              "       [ 25,  26,  27,  28],\n",
              "       [ 29,  30,  31,  32],\n",
              "       [ 33,  34,  35,  36],\n",
              "       [ 37,  38,  39,  40],\n",
              "       [ 41,  42,  43,  44],\n",
              "       [ 45,  46,  47,  48],\n",
              "       [ 49,  50,  51,  52],\n",
              "       [ 53,  54,  55,  56],\n",
              "       [ 57,  58,  59,  60],\n",
              "       [ 61,  62,  63,  64],\n",
              "       [ 65,  66,  67,  68],\n",
              "       [ 69,  70,  71,  72],\n",
              "       [ 73,  74,  75,  76],\n",
              "       [ 77,  78,  79,  80],\n",
              "       [ 81,  82,  83,  84],\n",
              "       [ 85,  86,  87,  88],\n",
              "       [ 89,  90,  91,  92],\n",
              "       [ 93,  94,  95,  96],\n",
              "       [ 97,  98,  99, 100]])"
            ]
          },
          "metadata": {},
          "execution_count": 76
        }
      ]
    },
    {
      "cell_type": "markdown",
      "metadata": {
        "id": "ttW5g_IyYwN7"
      },
      "source": [
        "## 1.5 Numpy Array (Indexing and Slicing multi-dimensional arrays)"
      ]
    },
    {
      "cell_type": "code",
      "metadata": {
        "id": "75zf7lefYwN8"
      },
      "source": [
        "import numpy as np"
      ],
      "execution_count": 77,
      "outputs": []
    },
    {
      "cell_type": "code",
      "metadata": {
        "id": "djhT9sJ4YwN_",
        "colab": {
          "base_uri": "https://localhost:8080/"
        },
        "outputId": "5c9fcd3f-7d9a-435f-d22d-8bf06d3ac368"
      },
      "source": [
        "a = np.arange(1,13)\n",
        "a"
      ],
      "execution_count": 78,
      "outputs": [
        {
          "output_type": "execute_result",
          "data": {
            "text/plain": [
              "array([ 1,  2,  3,  4,  5,  6,  7,  8,  9, 10, 11, 12])"
            ]
          },
          "metadata": {},
          "execution_count": 78
        }
      ]
    },
    {
      "cell_type": "code",
      "metadata": {
        "id": "tD_at1PqYwOB",
        "colab": {
          "base_uri": "https://localhost:8080/"
        },
        "outputId": "ee9ab37b-3ae4-4a15-f892-14c6c72996cc"
      },
      "source": [
        "a = a.reshape(3,4) #creating matrix with 3 rows and 4 columns\n",
        "a"
      ],
      "execution_count": 79,
      "outputs": [
        {
          "output_type": "execute_result",
          "data": {
            "text/plain": [
              "array([[ 1,  2,  3,  4],\n",
              "       [ 5,  6,  7,  8],\n",
              "       [ 9, 10, 11, 12]])"
            ]
          },
          "metadata": {},
          "execution_count": 79
        }
      ]
    },
    {
      "cell_type": "code",
      "metadata": {
        "id": "U6d-042xYwOF",
        "colab": {
          "base_uri": "https://localhost:8080/"
        },
        "outputId": "020b1a1e-30ee-4b59-a221-7ddbfc747d80"
      },
      "source": [
        "a[0] #first row (index position 0)"
      ],
      "execution_count": 80,
      "outputs": [
        {
          "output_type": "execute_result",
          "data": {
            "text/plain": [
              "array([1, 2, 3, 4])"
            ]
          },
          "metadata": {},
          "execution_count": 80
        }
      ]
    },
    {
      "cell_type": "code",
      "metadata": {
        "id": "ipr5rr43YwOO",
        "colab": {
          "base_uri": "https://localhost:8080/"
        },
        "outputId": "e16da6b6-40e4-4ab4-a7bb-51d286aac990"
      },
      "source": [
        "a[1] #second row (index position 1)"
      ],
      "execution_count": 81,
      "outputs": [
        {
          "output_type": "execute_result",
          "data": {
            "text/plain": [
              "array([5, 6, 7, 8])"
            ]
          },
          "metadata": {},
          "execution_count": 81
        }
      ]
    },
    {
      "cell_type": "code",
      "metadata": {
        "id": "Qlqfy0MFYwOR",
        "colab": {
          "base_uri": "https://localhost:8080/"
        },
        "outputId": "84085537-86e9-45be-a8af-afeee3daef48"
      },
      "source": [
        "a[2] #third row (index position 2)"
      ],
      "execution_count": 82,
      "outputs": [
        {
          "output_type": "execute_result",
          "data": {
            "text/plain": [
              "array([ 9, 10, 11, 12])"
            ]
          },
          "metadata": {},
          "execution_count": 82
        }
      ]
    },
    {
      "cell_type": "code",
      "metadata": {
        "id": "5Hnn3RdfYwOb",
        "colab": {
          "base_uri": "https://localhost:8080/"
        },
        "outputId": "c2d9d664-491b-4f3c-c5dd-64c9a02ddfa7"
      },
      "source": [
        "a[-1] #last row (index position -1)"
      ],
      "execution_count": 83,
      "outputs": [
        {
          "output_type": "execute_result",
          "data": {
            "text/plain": [
              "array([ 9, 10, 11, 12])"
            ]
          },
          "metadata": {},
          "execution_count": 83
        }
      ]
    },
    {
      "cell_type": "code",
      "metadata": {
        "id": "46kky9YIYwOe",
        "colab": {
          "base_uri": "https://localhost:8080/"
        },
        "outputId": "ea0bd622-4977-48aa-969b-8e3631544ff4"
      },
      "source": [
        "a[1][1] #second row, second column"
      ],
      "execution_count": 84,
      "outputs": [
        {
          "output_type": "execute_result",
          "data": {
            "text/plain": [
              "6"
            ]
          },
          "metadata": {},
          "execution_count": 84
        }
      ]
    },
    {
      "cell_type": "code",
      "metadata": {
        "id": "7nm3qV4qYwOi",
        "colab": {
          "base_uri": "https://localhost:8080/"
        },
        "outputId": "28e56149-61ef-4226-fc7b-10e836fd6e59"
      },
      "source": [
        "a[1,1] #more convenient in one square bracket"
      ],
      "execution_count": 85,
      "outputs": [
        {
          "output_type": "execute_result",
          "data": {
            "text/plain": [
              "6"
            ]
          },
          "metadata": {},
          "execution_count": 85
        }
      ]
    },
    {
      "cell_type": "code",
      "metadata": {
        "id": "vGgA07CGYwOm",
        "colab": {
          "base_uri": "https://localhost:8080/"
        },
        "outputId": "2f091e09-339d-438f-cd52-138fce3f7c51"
      },
      "source": [
        "a[2,-1] #third row, last column"
      ],
      "execution_count": 86,
      "outputs": [
        {
          "output_type": "execute_result",
          "data": {
            "text/plain": [
              "12"
            ]
          },
          "metadata": {},
          "execution_count": 86
        }
      ]
    },
    {
      "cell_type": "code",
      "metadata": {
        "id": "yrQFFlqVYwOp",
        "colab": {
          "base_uri": "https://localhost:8080/"
        },
        "outputId": "5e4ca9fc-75d7-42c4-9e49-d9502dc52ea8"
      },
      "source": [
        "a[:,0] #all rows, first column"
      ],
      "execution_count": 87,
      "outputs": [
        {
          "output_type": "execute_result",
          "data": {
            "text/plain": [
              "array([1, 5, 9])"
            ]
          },
          "metadata": {},
          "execution_count": 87
        }
      ]
    },
    {
      "cell_type": "code",
      "metadata": {
        "id": "OiZfcC9iYwOt",
        "colab": {
          "base_uri": "https://localhost:8080/"
        },
        "outputId": "bd2cfddf-6a34-4f17-b074-2d0bf95fc33e"
      },
      "source": [
        "a[:,1] #all rows, second column"
      ],
      "execution_count": 88,
      "outputs": [
        {
          "output_type": "execute_result",
          "data": {
            "text/plain": [
              "array([ 2,  6, 10])"
            ]
          },
          "metadata": {},
          "execution_count": 88
        }
      ]
    },
    {
      "cell_type": "code",
      "metadata": {
        "id": "1w5ZTntQYwOv",
        "colab": {
          "base_uri": "https://localhost:8080/"
        },
        "outputId": "17a7d84b-182a-4898-e58c-89f34185df92"
      },
      "source": [
        "a[:,-1] #all rows, last column"
      ],
      "execution_count": 89,
      "outputs": [
        {
          "output_type": "execute_result",
          "data": {
            "text/plain": [
              "array([ 4,  8, 12])"
            ]
          },
          "metadata": {},
          "execution_count": 89
        }
      ]
    },
    {
      "cell_type": "code",
      "metadata": {
        "id": "4Px6ruccYwOy",
        "colab": {
          "base_uri": "https://localhost:8080/"
        },
        "outputId": "67b9eaa3-82be-4c38-bfb1-9302ea97b3e7"
      },
      "source": [
        "a[:2,1:3] #first two rows, column two and three"
      ],
      "execution_count": 90,
      "outputs": [
        {
          "output_type": "execute_result",
          "data": {
            "text/plain": [
              "array([[2, 3],\n",
              "       [6, 7]])"
            ]
          },
          "metadata": {},
          "execution_count": 90
        }
      ]
    },
    {
      "cell_type": "code",
      "metadata": {
        "id": "A25kpYRcYwO1",
        "colab": {
          "base_uri": "https://localhost:8080/"
        },
        "outputId": "69411efc-b48e-43bd-85ae-118791a9b5aa"
      },
      "source": [
        "a"
      ],
      "execution_count": 91,
      "outputs": [
        {
          "output_type": "execute_result",
          "data": {
            "text/plain": [
              "array([[ 1,  2,  3,  4],\n",
              "       [ 5,  6,  7,  8],\n",
              "       [ 9, 10, 11, 12]])"
            ]
          },
          "metadata": {},
          "execution_count": 91
        }
      ]
    },
    {
      "cell_type": "code",
      "metadata": {
        "id": "vmXFKFLWYwO4",
        "colab": {
          "base_uri": "https://localhost:8080/"
        },
        "outputId": "861303ac-7868-4d70-8080-653d9387df3f"
      },
      "source": [
        "a.T #Transpose: switching axes (attribute)"
      ],
      "execution_count": 92,
      "outputs": [
        {
          "output_type": "execute_result",
          "data": {
            "text/plain": [
              "array([[ 1,  5,  9],\n",
              "       [ 2,  6, 10],\n",
              "       [ 3,  7, 11],\n",
              "       [ 4,  8, 12]])"
            ]
          },
          "metadata": {},
          "execution_count": 92
        }
      ]
    },
    {
      "cell_type": "code",
      "metadata": {
        "id": "e3GHIEYtYwO7",
        "colab": {
          "base_uri": "https://localhost:8080/"
        },
        "outputId": "c6140b95-9d4e-4774-d359-f7e2628571ff"
      },
      "source": [
        "a.transpose() #same (method)"
      ],
      "execution_count": 93,
      "outputs": [
        {
          "output_type": "execute_result",
          "data": {
            "text/plain": [
              "array([[ 1,  5,  9],\n",
              "       [ 2,  6, 10],\n",
              "       [ 3,  7, 11],\n",
              "       [ 4,  8, 12]])"
            ]
          },
          "metadata": {},
          "execution_count": 93
        }
      ]
    },
    {
      "cell_type": "code",
      "metadata": {
        "id": "Ij9eicgwYwO9",
        "colab": {
          "base_uri": "https://localhost:8080/"
        },
        "outputId": "0872ab31-1820-43f8-a648-b52277a8ee17"
      },
      "source": [
        "a"
      ],
      "execution_count": 94,
      "outputs": [
        {
          "output_type": "execute_result",
          "data": {
            "text/plain": [
              "array([[ 1,  2,  3,  4],\n",
              "       [ 5,  6,  7,  8],\n",
              "       [ 9, 10, 11, 12]])"
            ]
          },
          "metadata": {},
          "execution_count": 94
        }
      ]
    },
    {
      "cell_type": "code",
      "metadata": {
        "id": "9fwTZe2JYwPA"
      },
      "source": [
        "a[:,-1] = a[:,-1] /4 #changing slice inplace"
      ],
      "execution_count": 95,
      "outputs": []
    },
    {
      "cell_type": "code",
      "metadata": {
        "id": "82OxQYGbYwPG",
        "colab": {
          "base_uri": "https://localhost:8080/"
        },
        "outputId": "a7a4cbb3-874f-43b2-a6b1-11d8782b940d"
      },
      "source": [
        "a"
      ],
      "execution_count": 96,
      "outputs": [
        {
          "output_type": "execute_result",
          "data": {
            "text/plain": [
              "array([[ 1,  2,  3,  1],\n",
              "       [ 5,  6,  7,  2],\n",
              "       [ 9, 10, 11,  3]])"
            ]
          },
          "metadata": {},
          "execution_count": 96
        }
      ]
    },
    {
      "cell_type": "code",
      "metadata": {
        "id": "STxhydkzYwPM",
        "colab": {
          "base_uri": "https://localhost:8080/"
        },
        "outputId": "cbc23a1a-4148-42a8-dd7c-742454ef8813"
      },
      "source": [
        "a = np.arange(1,13).reshape(3,4) #creating a 3x4 matrix\n",
        "a"
      ],
      "execution_count": 97,
      "outputs": [
        {
          "output_type": "execute_result",
          "data": {
            "text/plain": [
              "array([[ 1,  2,  3,  4],\n",
              "       [ 5,  6,  7,  8],\n",
              "       [ 9, 10, 11, 12]])"
            ]
          },
          "metadata": {},
          "execution_count": 97
        }
      ]
    },
    {
      "cell_type": "code",
      "metadata": {
        "id": "1bCm4E14YwPQ",
        "colab": {
          "base_uri": "https://localhost:8080/"
        },
        "outputId": "83a49ed4-4288-4d6f-d599-c5882dafbfa2"
      },
      "source": [
        "a.sum() #sum over all elements in matrix"
      ],
      "execution_count": 98,
      "outputs": [
        {
          "output_type": "execute_result",
          "data": {
            "text/plain": [
              "78"
            ]
          },
          "metadata": {},
          "execution_count": 98
        }
      ]
    },
    {
      "cell_type": "code",
      "metadata": {
        "id": "IgU4jf3BYwPT",
        "colab": {
          "base_uri": "https://localhost:8080/"
        },
        "outputId": "31d6c9bf-cafe-4dee-e238-3bebd1bebd10"
      },
      "source": [
        "a.sum(axis = 0) #sum of each column"
      ],
      "execution_count": 99,
      "outputs": [
        {
          "output_type": "execute_result",
          "data": {
            "text/plain": [
              "array([15, 18, 21, 24])"
            ]
          },
          "metadata": {},
          "execution_count": 99
        }
      ]
    },
    {
      "cell_type": "code",
      "metadata": {
        "id": "hu4_DAdZYwPV",
        "colab": {
          "base_uri": "https://localhost:8080/"
        },
        "outputId": "e57eb891-4bf8-47ec-d400-cfb2d36b94b4"
      },
      "source": [
        "a.sum(axis = 1) #sum of each row"
      ],
      "execution_count": 100,
      "outputs": [
        {
          "output_type": "execute_result",
          "data": {
            "text/plain": [
              "array([10, 26, 42])"
            ]
          },
          "metadata": {},
          "execution_count": 100
        }
      ]
    },
    {
      "cell_type": "code",
      "metadata": {
        "id": "aDWy90RbYwPY",
        "colab": {
          "base_uri": "https://localhost:8080/"
        },
        "outputId": "3843d52e-e854-4561-cb43-8ebefb328d2b"
      },
      "source": [
        "a.cumsum() #cumulative sum of all elements"
      ],
      "execution_count": 101,
      "outputs": [
        {
          "output_type": "execute_result",
          "data": {
            "text/plain": [
              "array([ 1,  3,  6, 10, 15, 21, 28, 36, 45, 55, 66, 78])"
            ]
          },
          "metadata": {},
          "execution_count": 101
        }
      ]
    },
    {
      "cell_type": "code",
      "metadata": {
        "id": "JC0PJh8RYwPa",
        "colab": {
          "base_uri": "https://localhost:8080/"
        },
        "outputId": "95a0246f-a823-4193-c96e-e702593c0c34"
      },
      "source": [
        "a.cumsum(axis = 0) #cumulative sum for each column"
      ],
      "execution_count": 102,
      "outputs": [
        {
          "output_type": "execute_result",
          "data": {
            "text/plain": [
              "array([[ 1,  2,  3,  4],\n",
              "       [ 6,  8, 10, 12],\n",
              "       [15, 18, 21, 24]])"
            ]
          },
          "metadata": {},
          "execution_count": 102
        }
      ]
    },
    {
      "cell_type": "code",
      "metadata": {
        "id": "OYGXbDUzYwPc",
        "colab": {
          "base_uri": "https://localhost:8080/"
        },
        "outputId": "33e607a6-0014-43c5-8635-6ab69b06b2f6"
      },
      "source": [
        "a.cumsum(axis = 1) #cumulative sum for each row"
      ],
      "execution_count": 103,
      "outputs": [
        {
          "output_type": "execute_result",
          "data": {
            "text/plain": [
              "array([[ 1,  3,  6, 10],\n",
              "       [ 5, 11, 18, 26],\n",
              "       [ 9, 19, 30, 42]])"
            ]
          },
          "metadata": {},
          "execution_count": 103
        }
      ]
    },
    {
      "cell_type": "code",
      "metadata": {
        "id": "L9Ff4Op3YwPf",
        "colab": {
          "base_uri": "https://localhost:8080/"
        },
        "outputId": "10c50e4e-9cf1-40e5-9819-d553231d2b23"
      },
      "source": [
        "a"
      ],
      "execution_count": 104,
      "outputs": [
        {
          "output_type": "execute_result",
          "data": {
            "text/plain": [
              "array([[ 1,  2,  3,  4],\n",
              "       [ 5,  6,  7,  8],\n",
              "       [ 9, 10, 11, 12]])"
            ]
          },
          "metadata": {},
          "execution_count": 104
        }
      ]
    },
    {
      "cell_type": "code",
      "metadata": {
        "id": "7nKJpJJCYwPh",
        "colab": {
          "base_uri": "https://localhost:8080/"
        },
        "outputId": "c4acd68a-f050-4f92-d5dd-b8375deb0606"
      },
      "source": [
        "a.prod() #product over all elements"
      ],
      "execution_count": 105,
      "outputs": [
        {
          "output_type": "execute_result",
          "data": {
            "text/plain": [
              "479001600"
            ]
          },
          "metadata": {},
          "execution_count": 105
        }
      ]
    },
    {
      "cell_type": "code",
      "metadata": {
        "id": "M3YRIjiUYwPk",
        "colab": {
          "base_uri": "https://localhost:8080/"
        },
        "outputId": "6587ae19-31ec-4785-98d3-4a5f1104abae"
      },
      "source": [
        "a.prod(axis = 0) #product over all elements in each column"
      ],
      "execution_count": 106,
      "outputs": [
        {
          "output_type": "execute_result",
          "data": {
            "text/plain": [
              "array([ 45, 120, 231, 384])"
            ]
          },
          "metadata": {},
          "execution_count": 106
        }
      ]
    },
    {
      "cell_type": "code",
      "metadata": {
        "id": "iNbv-gLEYwPo",
        "colab": {
          "base_uri": "https://localhost:8080/"
        },
        "outputId": "f539729c-2077-4778-ed8e-5920b433745a"
      },
      "source": [
        "a.prod(axis = 1) #product over all elements in each row"
      ],
      "execution_count": 107,
      "outputs": [
        {
          "output_type": "execute_result",
          "data": {
            "text/plain": [
              "array([   24,  1680, 11880])"
            ]
          },
          "metadata": {},
          "execution_count": 107
        }
      ]
    }
  ]
}